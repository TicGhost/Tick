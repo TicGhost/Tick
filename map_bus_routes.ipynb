{
 "cells": [
  {
   "cell_type": "code",
   "execution_count": 88,
   "metadata": {},
   "outputs": [],
   "source": [
    "import pandas as pd\n",
    "import matplotlib.pyplot as plt\n",
    "import folium"
   ]
  },
  {
   "cell_type": "code",
   "execution_count": 90,
   "metadata": {},
   "outputs": [],
   "source": [
    "df = pd.read_csv('final_bus_routes.csv')\n",
    "df['group'] = df['bus'].apply(lambda x: x[2:8]) #remove bus number\n",
    "\n",
    "unique_routes = df['bus'].unique()\n",
    "cmap = plt.get_cmap('viridis')\n",
    "colors = [cmap(i / len(unique_routes)) for i in range(len(unique_routes))]\n",
    "color_map = {route: f'#{int(r * 255):02x}{int(g * 255):02x}{int(b * 255):02x}' for route, (r, g, b, _) in zip(unique_routes, colors)}\n",
    "\n",
    "def plot_bus_route(filtered_df, map_object):\n",
    "    coordinates = []\n",
    "    for index, row in filtered_df.iterrows():\n",
    "        coords = [row['lat'], row['lon']]\n",
    "        coordinates.append(coords)\n",
    "        route_color = color_map[row['bus']]\n",
    "        tooltip_content = f\"<b>{row['Location']}</b><br/>{row['Time']}<br/>{row['bus']}\"\n",
    "\n",
    "        folium.Circle(\n",
    "            location=coords,\n",
    "            fill_opacity=0.6,\n",
    "            radius=75,\n",
    "            fill_color=route_color,\n",
    "            color=route_color,\n",
    "            fill=0.6,\n",
    "            tooltip=folium.Tooltip(tooltip_content) \n",
    "        ).add_to(map_object)\n",
    "\n",
    "# create Folium maps\n",
    "def create_map(group):\n",
    "    filtered_df = df[df['group'] == group]\n",
    "\n",
    "    if not filtered_df.empty:\n",
    "        initial_coords = [44.25382,\t-72.7870551]\n",
    "\n",
    "        m = folium.Map(location=initial_coords, tiles='cartodbpositron', zoom_start=11)\n",
    "        plot_bus_route(filtered_df, m)\n",
    "\n",
    "        map_filename = f'{group}_map.html'\n",
    "        m.save(map_filename)\n",
    "        \n",
    "        return map_filename\n",
    "    else:\n",
    "        return None\n",
    "\n",
    "for route_label in df['group'].unique():\n",
    "    create_map(route_label)"
   ]
  }
 ],
 "metadata": {
  "kernelspec": {
   "display_name": "Python 3",
   "language": "python",
   "name": "python3"
  },
  "language_info": {
   "codemirror_mode": {
    "name": "ipython",
    "version": 3
   },
   "file_extension": ".py",
   "mimetype": "text/x-python",
   "name": "python",
   "nbconvert_exporter": "python",
   "pygments_lexer": "ipython3",
   "version": "3.11.0"
  }
 },
 "nbformat": 4,
 "nbformat_minor": 2
}
